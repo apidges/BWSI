{
 "cells": [
  {
   "cell_type": "code",
   "execution_count": 117,
   "metadata": {},
   "outputs": [],
   "source": [
    "from sys import maxsize\n",
    "from itertools import permutations\n",
    "from math import factorial"
   ]
  },
  {
   "cell_type": "code",
   "execution_count": 118,
   "metadata": {},
   "outputs": [],
   "source": [
    "def weightedMaxCut(graph):\n",
    "    size = len(graph)\n",
    "    \n",
    "    # cuts - divides each index 'particle' into two groups ie. 0 or 1\n",
    "    maxWeight, cuts = 0, 0\n",
    "    # iterates through all possible division of particles into two groups\n",
    "    # note that cases are symmetrical, ie. 1000 are the same groups as 0111 \n",
    "    for i in range(2**(size-1)):\n",
    "        # each index in string represents'particle' of group 0 or 1\n",
    "        binary = bin(i)[2:]\n",
    "        binary = '0' * (size - len(binary)) + binary \n",
    "\n",
    "        # stores current iteration/path weight\n",
    "        weight = 0\n",
    "\n",
    "        for j in range(size):\n",
    "            for k in range(j+1, size):\n",
    "                weight += graph[j][k] * int(binary[j] != binary[k])\n",
    "\n",
    "        if maxWeight < weight:\n",
    "            maxWeight, cuts = weight, binary\n",
    "\n",
    "        print(weight, binary)\n",
    "\n",
    "    return maxWeight, cuts"
   ]
  },
  {
   "cell_type": "code",
   "execution_count": 119,
   "metadata": {},
   "outputs": [
    {
     "name": "stdout",
     "output_type": "stream",
     "text": [
      "0 0000\n",
      "2 0001\n",
      "3 0010\n",
      "3 0011\n",
      "2 0100\n",
      "4 0101\n",
      "3 0110\n",
      "3 0111\n",
      "(4, '0101')\n"
     ]
    }
   ],
   "source": [
    "weight = [[0, 1, 1, 1], [1, 0, 1, 0], [1, 1, 0, 1], [1, 0, 1, 0]]\n",
    "\n",
    "print(weightedMaxCut(weight))"
   ]
  }
 ],
 "metadata": {
  "kernelspec": {
   "display_name": "base",
   "language": "python",
   "name": "python3"
  },
  "language_info": {
   "codemirror_mode": {
    "name": "ipython",
    "version": 3
   },
   "file_extension": ".py",
   "mimetype": "text/x-python",
   "name": "python",
   "nbconvert_exporter": "python",
   "pygments_lexer": "ipython3",
   "version": "3.9.7"
  },
  "orig_nbformat": 4
 },
 "nbformat": 4,
 "nbformat_minor": 2
}
