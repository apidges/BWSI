{
 "cells": [
  {
   "cell_type": "code",
   "execution_count": 3,
   "metadata": {},
   "outputs": [],
   "source": [
    "def xp(level, boost = False):\n",
    "    thirty = 37248 + 2688\n",
    "    thirtyToFifty = '2688\t2688\t2688\t2784\t2784\t2784\t2880\t2880\t2880\t3072\t3072\t3168\t3168\t3264\t3264\t3360\t3360\t3456\t3456\t3456'.split('\t')\n",
    "    fiftyPlus = '2592\t2688\t2688\t2688\t2688\t2880\t2880\t2880\t3072\t3072\t3072\t3264\t3264\t3264\t3360\t3360\t3360\t3456\t3456\t3456\t3456\t3552\t3552\t3648\t3648'.split('\t')\n",
    "\n",
    "    thirtyToFifty = [int(thirtyToFifty[i]) for i in range(len(thirtyToFifty))]\n",
    "    fiftyPlus = [int(fiftyPlus[i]) for i in range(len(fiftyPlus))]\n",
    "\n",
    "    xp = thirty\n",
    "    if level < 50:\n",
    "        xp += sum(thirtyToFifty[: level - 30])\n",
    "        return xp * (.5 if boost else 1)\n",
    "    xp += sum(thirtyToFifty)\n",
    "    xp += sum(fiftyPlus[: level - 50])\n",
    "    return xp * (.5 if boost else 1)\n",
    "\n",
    "    "
   ]
  },
  {
   "cell_type": "code",
   "execution_count": 7,
   "metadata": {},
   "outputs": [],
   "source": [
    "def level(xp, boost = False):\n",
    "    if boost:\n",
    "        xp *= 2\n",
    "    \n",
    "    thirty = 37248 + 2688\n",
    "    thirtyToFifty = '2688\t2688\t2688\t2784\t2784\t2784\t2880\t2880\t2880\t3072\t3072\t3168\t3168\t3264\t3264\t3360\t3360\t3456\t3456\t3456'.split('\t')\n",
    "    fiftyPlus = '2592\t2688\t2688\t2688\t2688\t2880\t2880\t2880\t3072\t3072\t3072\t3264\t3264\t3264\t3360\t3360\t3360\t3456\t3456\t3456\t3456\t3552\t3552\t3648\t3648'.split('\t')\n",
    "\n",
    "    thirtyToFifty = [int(thirtyToFifty[i]) for i in range(len(thirtyToFifty))]\n",
    "    fiftyPlus = [int(fiftyPlus[i]) for i in range(len(fiftyPlus))]\n",
    "\n",
    "    xp -= thirty\n",
    "    level = 30\n",
    "    if xp <= sum(thirtyToFifty):\n",
    "        while(xp > 0):\n",
    "            xp -= thirtyToFifty[level - 30]\n",
    "            level += 1\n",
    "        return level\n",
    "    \n",
    "    xp -= sum(thirtyToFifty)\n",
    "    level = 50\n",
    "\n",
    "    while xp > 0:\n",
    "        xp -= fiftyPlus[(level-30) % len(fiftyPlus)]\n",
    "        level += 1\n",
    "\n",
    "    return level\n",
    "\n",
    "\n",
    "    "
   ]
  },
  {
   "cell_type": "code",
   "execution_count": 8,
   "metadata": {},
   "outputs": [
    {
     "name": "stdout",
     "output_type": "stream",
     "text": [
      "74304\n",
      "66\n",
      "67776.0\n"
     ]
    }
   ],
   "source": [
    "print(xp(42))\n",
    "print(level(xp(42), True))\n",
    "print(xp(62, True))"
   ]
  }
 ],
 "metadata": {
  "kernelspec": {
   "display_name": "base",
   "language": "python",
   "name": "python3"
  },
  "language_info": {
   "codemirror_mode": {
    "name": "ipython",
    "version": 3
   },
   "file_extension": ".py",
   "mimetype": "text/x-python",
   "name": "python",
   "nbconvert_exporter": "python",
   "pygments_lexer": "ipython3",
   "version": "3.9.7"
  },
  "orig_nbformat": 4
 },
 "nbformat": 4,
 "nbformat_minor": 2
}
