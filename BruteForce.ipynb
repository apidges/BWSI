{
 "cells": [
  {
   "cell_type": "code",
   "execution_count": 6,
   "metadata": {},
   "outputs": [],
   "source": [
    "from sys import maxsize\n",
    "from itertools import permutations"
   ]
  },
  {
   "cell_type": "code",
   "execution_count": 7,
   "metadata": {},
   "outputs": [],
   "source": [
    "def travellingSalesman(graph, source = 0):\n",
    "    indicies = [i for i in range(len(graph)) if i != source]\n",
    "    \n",
    "    # stores optimal path length \n",
    "    minWeight = maxsize\n",
    "    bestOrder = []\n",
    "    for i in permutations(indicies):\n",
    "        weight = 0\n",
    "        # measures path of \"salesman\" through an iteration\n",
    "        position = source\n",
    "        order = [0]\n",
    "        for j in i:\n",
    "            weight += graph[position][j]\n",
    "            position = j\n",
    "            order += [j]\n",
    "        weight += graph[position][source]\n",
    "        order += [0]\n",
    " \n",
    "        if weight < minWeight:\n",
    "            minWeight = weight\n",
    "            bestOrder = order\n",
    "\n",
    "    return (minWeight, bestOrder)"
   ]
  },
  {
   "cell_type": "code",
   "execution_count": 8,
   "metadata": {},
   "outputs": [],
   "source": [
    "def weightedMaxCut(graph):\n",
    "    size = len(graph)\n",
    "    \n",
    "    # cuts - divides each index 'particle' into two groups ie. 0 or 1\n",
    "    maxWeight, cuts = 0, 0\n",
    "    # iterates through all possible division of particles into two groups\n",
    "    # note that cases are symmetrical, ie. 1000 are the same groups as 0111 \n",
    "    for i in range(2**(size-1)):\n",
    "        # each index in string represents'particle' of group 0 or 1\n",
    "        binary = bin(i)[2:]\n",
    "        binary = '0' * (size - len(binary)) + binary \n",
    "\n",
    "        # stores current iteration/path weight\n",
    "        weight = 0\n",
    "\n",
    "        for j in range(size):\n",
    "            for k in range(j+1, size):\n",
    "                weight += graph[j][k] * int(binary[j] != binary[k])\n",
    "\n",
    "        if maxWeight < weight:\n",
    "            maxWeight, cuts = weight, binary\n",
    "\n",
    "        print(weight, binary)\n",
    "\n",
    "    return maxWeight, cuts"
   ]
  },
  {
   "cell_type": "code",
   "execution_count": 9,
   "metadata": {},
   "outputs": [],
   "source": [
    "import networkx as nx\n",
    "import matplotlib.pyplot as plt"
   ]
  },
  {
   "cell_type": "code",
   "execution_count": 10,
   "metadata": {},
   "outputs": [],
   "source": [
    "def visualize(weights, order, randomSeed=0):\n",
    "    graph = nx.DiGraph()\n",
    "    for i in range(len(weights)):\n",
    "        j = (i + 1) % len(weights)\n",
    "        graph.add_edge(order[i], order[j], weight=weights[order[i]][order[j]])\n",
    "    default_axes = plt.axes(frameon=True)\n",
    "    pos = nx.spring_layout(graph, seed=randomSeed)\n",
    "    nx.draw_networkx(\n",
    "        graph, node_size=400, ax=default_axes, pos=pos\n",
    "    )\n",
    "    edge_labels = nx.get_edge_attributes(graph, \"weight\")\n",
    "    nx.draw_networkx_edge_labels(graph, pos, edge_labels=edge_labels)"
   ]
  },
  {
   "cell_type": "code",
   "execution_count": 11,
   "metadata": {},
   "outputs": [],
   "source": [
    "# distance between point i and j\n",
    "weights = [[0, 20, 10, 12],\n",
    "        [20, 0, 15, 11],\n",
    "        [10, 15, 0, 17],\n",
    "        [12, 11, 17, 0]]\n",
    "# starting point index\n",
    "source = 0"
   ]
  },
  {
   "cell_type": "code",
   "execution_count": 15,
   "metadata": {},
   "outputs": [
    {
     "name": "stdout",
     "output_type": "stream",
     "text": [
      "0 0000\n",
      "40 0001\n",
      "42 0010\n",
      "48 0011\n",
      "46 0100\n",
      "64 0101\n",
      "58 0110\n",
      "42 0111\n",
      "64 0101\n"
     ]
    }
   ],
   "source": [
    "weight, cut = weightedMaxCut(weights)\n",
    "print(weight, cut)"
   ]
  },
  {
   "cell_type": "code",
   "execution_count": 12,
   "metadata": {},
   "outputs": [
    {
     "name": "stdout",
     "output_type": "stream",
     "text": [
      "Optimised distance: 48 -- Optimised order: [0, 2, 1, 3, 0]\n"
     ]
    },
    {
     "data": {
      "image/png": "[encoded data removed]",
      "text/plain": [
       "<Figure size 640x480 with 1 Axes>"
      ]
     },
     "metadata": {},
     "output_type": "display_data"
    }
   ],
   "source": [
    "(finalDist, finalOrder) = travellingSalesman(weights, source)\n",
    "print(\"Optimised distance: \" + str(finalDist) + \" -- Optimised order: \" + str(finalOrder))\n",
    "visualize(weights, finalOrder)"
   ]
  }
 ],
 "metadata": {
  "kernelspec": {
   "display_name": "base",
   "language": "python",
   "name": "python3"
  },
  "language_info": {
   "codemirror_mode": {
    "name": "ipython",
    "version": 3
   },
   "file_extension": ".py",
   "mimetype": "text/x-python",
   "name": "python",
   "nbconvert_exporter": "python",
   "pygments_lexer": "ipython3",
   "version": "3.9.7"
  },
  "orig_nbformat": 4
 },
 "nbformat": 4,
 "nbformat_minor": 2
}
