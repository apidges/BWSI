{
 "cells": [
  {
   "cell_type": "code",
   "execution_count": 4,
   "metadata": {},
   "outputs": [
    {
     "name": "stdout",
     "output_type": "stream",
     "text": [
      "Preparing Q# environment...\n",
      ".."
     ]
    },
    {
     "ename": "ModuleNotFoundError",
     "evalue": "No module named 'numpy'",
     "output_type": "error",
     "traceback": [
      "\u001b[1;31m---------------------------------------------------------------------------\u001b[0m",
      "\u001b[1;31mModuleNotFoundError\u001b[0m                       Traceback (most recent call last)",
      "Cell \u001b[1;32mIn[4], line 2\u001b[0m\n\u001b[0;32m      1\u001b[0m \u001b[38;5;28;01mimport\u001b[39;00m \u001b[38;5;21;01mqsharp\u001b[39;00m\n\u001b[1;32m----> 2\u001b[0m \u001b[38;5;28;01mimport\u001b[39;00m \u001b[38;5;21;01mnumpy\u001b[39;00m \u001b[38;5;28;01mas\u001b[39;00m \u001b[38;5;21;01mnp\u001b[39;00m\n\u001b[0;32m      3\u001b[0m \u001b[38;5;28;01mimport\u001b[39;00m \u001b[38;5;21;01mmatplotlib\u001b[39;00m\u001b[38;5;21;01m.\u001b[39;00m\u001b[38;5;21;01mpyplot\u001b[39;00m \u001b[38;5;28;01mas\u001b[39;00m \u001b[38;5;21;01mplt\u001b[39;00m\n",
      "\u001b[1;31mModuleNotFoundError\u001b[0m: No module named 'numpy'"
     ]
    }
   ],
   "source": [
    "import qsharp\n",
    "import numpy as np\n",
    "import matplotlib.pyplot as plt"
   ]
  },
  {
   "cell_type": "code",
   "execution_count": 5,
   "metadata": {},
   "outputs": [
    {
     "name": "stdout",
     "output_type": "stream",
     "text": [
      "Hello World!\r\n"
     ]
    },
    {
     "data": {
      "text/plain": [
       "()"
      ]
     },
     "execution_count": 5,
     "metadata": {},
     "output_type": "execute_result"
    }
   ],
   "source": [
    "from tspQs import helloWorld\n",
    "\n",
    "helloWorld.simulate()"
   ]
  },
  {
   "cell_type": "code",
   "execution_count": 2,
   "metadata": {},
   "outputs": [
    {
     "name": "stderr",
     "output_type": "stream",
     "text": [
      "UsageError: Cell magic `%%qsharp` not found.\n"
     ]
    }
   ],
   "source": [
    "%%qsharp\n",
    "\n",
    "tspQs.helloWorld();"
   ]
  },
  {
   "cell_type": "code",
   "execution_count": 3,
   "metadata": {},
   "outputs": [
    {
     "name": "stdout",
     "output_type": "stream",
     "text": [
      "Collecting qsharp\n",
      "  Obtaining dependency information for qsharp from https://files.pythonhosted.org/packages/68/41/01a8c0df462ea0ae76245128c96ad69358e36850b91de7ee453c35df5fa4/qsharp-0.28.291394-py3-none-any.whl.metadata\n",
      "  Downloading qsharp-0.28.291394-py3-none-any.whl.metadata (2.8 kB)\n",
      "Collecting qsharp-core==0.28.291394 (from qsharp)\n",
      "  Obtaining dependency information for qsharp-core==0.28.291394 from https://files.pythonhosted.org/packages/0d/48/d587d9456476851c715b77a57fad585214046812925bffe4758858e05cf9/qsharp_core-0.28.291394-py3-none-any.whl.metadata\n",
      "  Downloading qsharp_core-0.28.291394-py3-none-any.whl.metadata (2.8 kB)\n",
      "Collecting qsharp-chemistry==0.28.291394 (from qsharp)\n",
      "  Obtaining dependency information for qsharp-chemistry==0.28.291394 from https://files.pythonhosted.org/packages/80/d6/2926683554cb7eb04b2b3f19e8403a0c359bff7c520a028b75aae8c9f353/qsharp_chemistry-0.28.291394-py3-none-any.whl.metadata\n",
      "  Downloading qsharp_chemistry-0.28.291394-py3-none-any.whl.metadata (2.9 kB)\n",
      "Requirement already satisfied: jupyter-client>=7.3.4 in c:\\users\\esther lee\\anaconda3\\envs\\py3-9-17\\lib\\site-packages (from qsharp-core==0.28.291394->qsharp) (8.1.0)\n",
      "Requirement already satisfied: importlib-metadata>=4.8.3 in c:\\users\\esther lee\\anaconda3\\envs\\py3-9-17\\lib\\site-packages (from jupyter-client>=7.3.4->qsharp-core==0.28.291394->qsharp) (6.0.0)\n",
      "Requirement already satisfied: jupyter-core!=5.0.*,>=4.12 in c:\\users\\esther lee\\anaconda3\\envs\\py3-9-17\\lib\\site-packages (from jupyter-client>=7.3.4->qsharp-core==0.28.291394->qsharp) (5.3.0)\n",
      "Requirement already satisfied: python-dateutil>=2.8.2 in c:\\users\\esther lee\\anaconda3\\envs\\py3-9-17\\lib\\site-packages (from jupyter-client>=7.3.4->qsharp-core==0.28.291394->qsharp) (2.8.2)\n",
      "Requirement already satisfied: pyzmq>=23.0 in c:\\users\\esther lee\\anaconda3\\envs\\py3-9-17\\lib\\site-packages (from jupyter-client>=7.3.4->qsharp-core==0.28.291394->qsharp) (25.1.0)\n",
      "Requirement already satisfied: tornado>=6.2 in c:\\users\\esther lee\\anaconda3\\envs\\py3-9-17\\lib\\site-packages (from jupyter-client>=7.3.4->qsharp-core==0.28.291394->qsharp) (6.2)\n",
      "Requirement already satisfied: traitlets>=5.3 in c:\\users\\esther lee\\anaconda3\\envs\\py3-9-17\\lib\\site-packages (from jupyter-client>=7.3.4->qsharp-core==0.28.291394->qsharp) (5.7.1)\n",
      "Requirement already satisfied: zipp>=0.5 in c:\\users\\esther lee\\anaconda3\\envs\\py3-9-17\\lib\\site-packages (from importlib-metadata>=4.8.3->jupyter-client>=7.3.4->qsharp-core==0.28.291394->qsharp) (3.11.0)\n",
      "Requirement already satisfied: platformdirs>=2.5 in c:\\users\\esther lee\\anaconda3\\envs\\py3-9-17\\lib\\site-packages (from jupyter-core!=5.0.*,>=4.12->jupyter-client>=7.3.4->qsharp-core==0.28.291394->qsharp) (2.5.2)\n",
      "Requirement already satisfied: pywin32>=300 in c:\\users\\esther lee\\anaconda3\\envs\\py3-9-17\\lib\\site-packages (from jupyter-core!=5.0.*,>=4.12->jupyter-client>=7.3.4->qsharp-core==0.28.291394->qsharp) (305.1)\n",
      "Requirement already satisfied: six>=1.5 in c:\\users\\esther lee\\anaconda3\\envs\\py3-9-17\\lib\\site-packages (from python-dateutil>=2.8.2->jupyter-client>=7.3.4->qsharp-core==0.28.291394->qsharp) (1.16.0)\n",
      "Downloading qsharp-0.28.291394-py3-none-any.whl (2.2 kB)\n",
      "Downloading qsharp_chemistry-0.28.291394-py3-none-any.whl (5.6 kB)\n",
      "Downloading qsharp_core-0.28.291394-py3-none-any.whl (43 kB)\n",
      "   ---------------------------------------- 0.0/43.0 kB ? eta -:--:--\n",
      "   ---------------------------------------- 43.0/43.0 kB 2.0 MB/s eta 0:00:00\n",
      "Installing collected packages: qsharp-core, qsharp-chemistry, qsharp\n",
      "Successfully installed qsharp-0.28.291394 qsharp-chemistry-0.28.291394 qsharp-core-0.28.291394\n"
     ]
    }
   ],
   "source": [
    "!pip install qsharp"
   ]
  },
  {
   "cell_type": "code",
   "execution_count": null,
   "metadata": {},
   "outputs": [],
   "source": []
  }
 ],
 "metadata": {
  "kernelspec": {
   "display_name": "Python 3 (ipykernel)",
   "language": "python",
   "name": "python3"
  },
  "language_info": {
   "codemirror_mode": {
    "name": "ipython",
    "version": 3
   },
   "file_extension": ".py",
   "mimetype": "text/x-python",
   "name": "python",
   "nbconvert_exporter": "python",
   "pygments_lexer": "ipython3",
   "version": "3.9.17"
  }
 },
 "nbformat": 4,
 "nbformat_minor": 2
}
