{
 "cells": [
  {
   "cell_type": "code",
   "execution_count": 159,
   "id": "092182c7",
   "metadata": {},
   "outputs": [],
   "source": [
    "import qsharp"
   ]
  },
  {
   "cell_type": "code",
   "execution_count": 176,
   "id": "0c2af713",
   "metadata": {},
   "outputs": [
    {
     "name": "stdout",
     "output_type": "stream",
     "text": [
      "D:\\snippet_.qs(35,19): warning QS3308: Deprecated syntax. Use [] to construct an empty array, or [x, size = n] to construct an array of x repeated n times.\r\n"
     ]
    }
   ],
   "source": [
    "%%qsharp\n",
    "\n",
    "\n",
    "open Microsoft.Quantum.Canon;\n",
    "open Microsoft.Quantum.Intrinsic;\n",
    "open Microsoft.Quantum.Convert;\n",
    "open Microsoft.Quantum.Math;\n",
    "open Microsoft.Quantum.Arithmetic;\n",
    "open Microsoft.Quantum.Preparation;\n",
    "open Microsoft.Quantum.Diagnostics;\n",
    "\n",
    "operation getGraphLength():Int{\n",
    "    return 4;\n",
    "}\n",
    "\n",
    "operation completeCycle(gamma: Double, beta: Double, p: Int): Double {\n",
    "    return meanCostInverse(QAOA(gamma, beta, p));\n",
    "}\n",
    "\n",
    "operation QAOA(gamma:Double, beta:Double, p:Int):Int[]{\n",
    "    \n",
    "    //input register\n",
    "    use register = Qubit[getGraphLength()];\n",
    "    \n",
    "    //prepare qubits by creating uniform superposition\n",
    "    ApplyToEach(H, register);\n",
    "\n",
    "    //repeat cost and mixer steps p times\n",
    "    //I think that we might need a new gamma and beta for each p\n",
    "    for i in 1..p{\n",
    "        costLayer(register, gamma);\n",
    "        mixerLayer(register, beta);\n",
    "    }\n",
    "\n",
    "    //Read the results as int array\n",
    "    mutable res = new Int[Length(register)];\n",
    "    for i in 0..Length(register)-1{\n",
    "        set res w/= i <- (M(register[i]) == One ? 1 | 0);\n",
    "    }\n",
    "\n",
    "    //return the results\n",
    "    return res;\n",
    "}\n",
    "\n",
    "operation mixerLayer(register:Qubit[], beta:Double):Unit{\n",
    "    ApplyToEach(Rx(2.*beta, _), register); //the '2*beta' is from the qiskit vid https://www.youtube.com/watch?v=YpLzSQPrgSc\n",
    "}\n",
    "    \n",
    "operation costLayer(register:Qubit[], gamma:Double):Unit{\n",
    "    ApplyToEach(Rz(gamma, _), register);\n",
    "    for i in 0..Length(register)-1{\n",
    "         for j in i+1..Length(register)-1{\n",
    "             Rzz(gamma, register[i], register[j]);\n",
    "         }\n",
    "     }\n",
    "}\n",
    "   \n",
    "operation meanCostInverse(register: Int[]) : Double {\n",
    "    mutable cost = IntAsDouble(Length(register));\n",
    "    for i in 0 .. Length(register) - 1 {\n",
    "        for j in i..Length(register)-1{\n",
    "            let xi = IntAsDouble(register[1]);\n",
    "            let xj = IntAsDouble(register[j]);\n",
    "            set cost -= (1.-xi*xj)/2.; //from https://www.youtube.com/watch?v=aFVnWq3RHYU&t=126s\n",
    "        }\n",
    "    }\n",
    "    return cost / IntAsDouble(Length(register));\n",
    "}\n"
   ]
  },
  {
   "cell_type": "code",
   "execution_count": 177,
   "id": "b591de50",
   "metadata": {},
   "outputs": [
    {
     "name": "stdout",
     "output_type": "stream",
     "text": [
      "[0, 1, 0, 0]\n",
      "[1, 0, 1, 1]\n",
      "[0, 0, 0, 0]\n",
      "[0, 0, 0, 0]\n",
      "[1, 1, 0, 1]\n",
      "[0, 0, 0, 0]\n",
      "[0, 0, 0, 0]\n",
      "[0, 0, 0, 0]\n",
      "[0, 1, 1, 1]\n",
      "[0, 0, 0, 0]\n"
     ]
    }
   ],
   "source": [
    "for i in range(10):\n",
    "    print(QAOA.simulate(gamma=1, beta=1, p=10))"
   ]
  },
  {
   "cell_type": "code",
   "execution_count": 178,
   "id": "daa2bb0d",
   "metadata": {},
   "outputs": [],
   "source": [
    "import numpy as np\n",
    "from scipy.optimize import minimize"
   ]
  },
  {
   "cell_type": "code",
   "execution_count": 179,
   "id": "1f353a22",
   "metadata": {},
   "outputs": [],
   "source": [
    "def obj_func(params):\n",
    "    myres=completeCycle.simulate(gamma=params[0], beta=params[1], p=1);\n",
    "    print('res= ', myres)\n",
    "    print('params= ', params)\n"
   ]
  },
  {
   "cell_type": "code",
   "execution_count": 180,
   "id": "f80284c0",
   "metadata": {},
   "outputs": [],
   "source": [
    "def getMostFrequent(gamma, beta):\n",
    "    myDict = {}\n",
    "    for i in range(1000):\n",
    "        res = QAOA.simulate(gamma=gamma, beta=beta, p=1)\n",
    "        res=tuple(res)\n",
    "        if res in myDict.keys():\n",
    "            myDict.update({res:myDict.get(res)+1})\n",
    "        else:\n",
    "            myDict.update({res:0})\n",
    "    return np.array(max(myDict))"
   ]
  },
  {
   "cell_type": "code",
   "execution_count": 181,
   "id": "31ec20df",
   "metadata": {},
   "outputs": [
    {
     "name": "stdout",
     "output_type": "stream",
     "text": [
      "[1 1 1 1]\n"
     ]
    }
   ],
   "source": [
    "print(getMostFrequent(0.,0.))"
   ]
  },
  {
   "cell_type": "code",
   "execution_count": 182,
   "id": "52f11e0d",
   "metadata": {},
   "outputs": [],
   "source": [
    "def obj_func2 (params):\n",
    "    myregister=getMostFrequent(params[0], params[1])\n",
    "    print('params= ', params)\n",
    "    print('register= ', myregister)\n",
    "    myRes=meanCostInverse.simulate(register=myregister)\n",
    "    print('cost= ', myRes)\n",
    "    return myRes"
   ]
  },
  {
   "cell_type": "code",
   "execution_count": 183,
   "id": "f6c3b82d",
   "metadata": {},
   "outputs": [
    {
     "name": "stdout",
     "output_type": "stream",
     "text": [
      "params=  [2.0, 2.0]\n",
      "register=  [1 1 1 1]\n",
      "cost=  1.0\n",
      "1.0\n"
     ]
    }
   ],
   "source": [
    "print(obj_func2([2.,2.]))"
   ]
  },
  {
   "cell_type": "code",
   "execution_count": 184,
   "id": "faea1554",
   "metadata": {
    "scrolled": true
   },
   "outputs": [
    {
     "name": "stdout",
     "output_type": "stream",
     "text": [
      "params=  [0. 0.]\n",
      "register=  [1 1 1 1]\n",
      "cost=  1.0\n",
      "params=  [1. 0.]\n",
      "register=  [1 1 1 1]\n",
      "cost=  1.0\n",
      "params=  [0. 1.]\n",
      "register=  [1 1 1 1]\n",
      "cost=  1.0\n",
      "params=  [0.125 0.   ]\n",
      "register=  [1 1 1 1]\n",
      "cost=  1.0\n",
      "params=  [0.    0.125]\n",
      "register=  [1 1 1 1]\n",
      "cost=  1.0\n",
      "params=  [0.015625 0.      ]\n",
      "register=  [1 1 1 1]\n",
      "cost=  1.0\n",
      "params=  [0.       0.015625]\n",
      "register=  [1 1 1 1]\n",
      "cost=  1.0\n",
      "params=  [0.00195312 0.        ]\n",
      "register=  [1 1 1 1]\n",
      "cost=  1.0\n",
      "params=  [0.         0.00195312]\n",
      "register=  [1 1 1 1]\n",
      "cost=  1.0\n",
      "params=  [0.00024414 0.        ]\n",
      "register=  [1 1 1 1]\n",
      "cost=  1.0\n",
      "params=  [0.         0.00024414]\n",
      "register=  [1 1 1 1]\n",
      "cost=  1.0\n",
      "params=  [5.e-05 0.e+00]\n",
      "register=  [1 1 1 1]\n",
      "cost=  1.0\n",
      "params=  [0.e+00 5.e-05]\n",
      "register=  [1 1 1 1]\n",
      "cost=  1.0\n",
      "all=       fun: 1.0\n",
      "   maxcv: 0.0\n",
      " message: 'Optimization terminated successfully.'\n",
      "    nfev: 13\n",
      "  status: 1\n",
      " success: True\n",
      "       x: array([0., 0.])\n"
     ]
    }
   ],
   "source": [
    "res = minimize(obj_func2,[0.0, 0.0], method='COBYLA')\n",
    "print('all= ', res)"
   ]
  },
  {
   "cell_type": "code",
   "execution_count": 185,
   "id": "ebdaa41f",
   "metadata": {},
   "outputs": [],
   "source": [
    "def obj_func3 (params):\n",
    "    myregister=QAOA.simulate(gamma=params[0], beta=params[1], p=1)\n",
    "    #print('params= ', params)\n",
    "    #print('register= ', myregister)\n",
    "    myRes=meanCostInverse.simulate(register=myregister)\n",
    "    print('cost= ', myRes)\n",
    "    return myRes"
   ]
  },
  {
   "cell_type": "code",
   "execution_count": 186,
   "id": "eb117c24",
   "metadata": {},
   "outputs": [
    {
     "name": "stdout",
     "output_type": "stream",
     "text": [
      "cost=  -0.25\n",
      "-0.25\n"
     ]
    }
   ],
   "source": [
    "print(obj_func3([2.,2.]))"
   ]
  },
  {
   "cell_type": "code",
   "execution_count": 188,
   "id": "b15963af",
   "metadata": {},
   "outputs": [
    {
     "name": "stdout",
     "output_type": "stream",
     "text": [
      "cost=  0.5\n",
      "cost=  0.875\n",
      "cost=  0.625\n",
      "cost=  -0.25\n",
      "cost=  -0.25\n",
      "cost=  -0.25\n",
      "cost=  1.0\n",
      "cost=  1.0\n",
      "cost=  -0.25\n",
      "cost=  1.0\n",
      "cost=  -0.25\n",
      "cost=  -0.25\n",
      "cost=  1.0\n",
      "cost=  0.375\n",
      "cost=  0.625\n",
      "cost=  -0.25\n",
      "cost=  1.0\n",
      "cost=  0.0\n",
      "cost=  1.0\n",
      "cost=  -0.25\n",
      "cost=  -0.25\n",
      "cost=  1.0\n",
      "cost=  1.0\n",
      "cost=  -0.25\n",
      "cost=  0.0\n",
      "cost=  0.125\n",
      "cost=  -0.25\n",
      "cost=  -0.25\n",
      "i=  0  i+3=  3\n",
      "all=       fun: -0.25\n",
      "   maxcv: 0.0\n",
      " message: 'Optimization terminated successfully.'\n",
      "    nfev: 28\n",
      "  status: 1\n",
      " success: True\n",
      "       x: array([-0.9486833 ,  2.68377223])\n",
      "cost=  -0.25\n",
      "cost=  -0.25\n",
      "cost=  -0.25\n",
      "cost=  0.625\n",
      "cost=  -0.25\n",
      "cost=  -0.25\n",
      "cost=  0.875\n",
      "cost=  0.375\n",
      "cost=  -0.25\n",
      "cost=  0.875\n",
      "cost=  -0.25\n",
      "cost=  0.125\n",
      "cost=  1.0\n",
      "cost=  -0.25\n",
      "cost=  -0.25\n",
      "cost=  -0.25\n",
      "cost=  -0.25\n",
      "cost=  0.625\n",
      "cost=  0.0\n",
      "cost=  -0.25\n",
      "cost=  0.5\n",
      "cost=  1.0\n",
      "cost=  -0.25\n",
      "cost=  0.625\n",
      "i=  1  i+3=  4\n",
      "all=       fun: 0.625\n",
      "   maxcv: 0.0\n",
      " message: 'Optimization terminated successfully.'\n",
      "    nfev: 24\n",
      "  status: 1\n",
      " success: True\n",
      "       x: array([0.9999, 4.    ])\n",
      "cost=  0.875\n",
      "cost=  0.5\n",
      "cost=  -0.25\n",
      "cost=  -0.25\n",
      "cost=  0.875\n",
      "cost=  -0.25\n",
      "cost=  -0.25\n",
      "cost=  0.0\n",
      "cost=  -0.25\n",
      "cost=  1.0\n",
      "cost=  -0.25\n",
      "cost=  1.0\n",
      "cost=  0.0\n",
      "cost=  -0.25\n",
      "cost=  0.125\n",
      "cost=  0.5\n",
      "cost=  1.0\n",
      "cost=  0.125\n",
      "cost=  0.5\n",
      "cost=  1.0\n",
      "cost=  0.5\n",
      "cost=  0.0\n",
      "cost=  -0.25\n",
      "cost=  0.0\n",
      "cost=  0.0\n",
      "cost=  -0.25\n",
      "cost=  0.625\n",
      "i=  2  i+3=  5\n",
      "all=       fun: 0.625\n",
      "   maxcv: 0.0\n",
      " message: 'Optimization terminated successfully.'\n",
      "    nfev: 27\n",
      "  status: 1\n",
      " success: True\n",
      "       x: array([2.99991987, 6.00005982])\n",
      "cost=  0.625\n",
      "cost=  -0.25\n",
      "cost=  1.0\n",
      "cost=  0.875\n",
      "cost=  -0.25\n",
      "cost=  -0.25\n",
      "cost=  0.625\n",
      "cost=  -0.25\n",
      "cost=  0.125\n",
      "cost=  0.5\n",
      "cost=  0.625\n",
      "cost=  0.5\n",
      "cost=  0.125\n",
      "cost=  0.5\n",
      "cost=  -0.25\n",
      "cost=  -0.25\n",
      "cost=  0.375\n",
      "cost=  -0.25\n",
      "cost=  0.5\n",
      "cost=  -0.25\n",
      "cost=  0.625\n",
      "cost=  -0.25\n",
      "cost=  0.0\n",
      "cost=  0.625\n",
      "cost=  0.5\n",
      "cost=  -0.25\n",
      "cost=  -0.25\n",
      "i=  3  i+3=  6\n",
      "all=       fun: -0.25\n",
      "   maxcv: 0.0\n",
      " message: 'Optimization terminated successfully.'\n",
      "    nfev: 27\n",
      "  status: 1\n",
      " success: True\n",
      "       x: array([4., 6.])\n",
      "cost=  -0.25\n",
      "cost=  -0.25\n",
      "cost=  0.625\n",
      "cost=  0.375\n",
      "cost=  -0.25\n",
      "cost=  0.625\n",
      "cost=  0.875\n",
      "cost=  1.0\n",
      "cost=  -0.25\n",
      "cost=  -0.25\n",
      "cost=  -0.25\n",
      "cost=  -0.25\n",
      "cost=  1.0\n",
      "cost=  -0.25\n",
      "cost=  -0.25\n",
      "cost=  -0.25\n",
      "cost=  0.375\n",
      "cost=  0.875\n",
      "cost=  0.125\n",
      "cost=  -0.25\n",
      "cost=  1.0\n",
      "cost=  0.5\n",
      "cost=  -0.25\n",
      "i=  4  i+3=  7\n",
      "all=       fun: -0.25\n",
      "   maxcv: 0.0\n",
      " message: 'Optimization terminated successfully.'\n",
      "    nfev: 23\n",
      "  status: 1\n",
      " success: True\n",
      "       x: array([4.    , 7.0001])\n"
     ]
    }
   ],
   "source": [
    "for i in range(5):\n",
    "    res = minimize(obj_func3,[i, i+3.0], method='COBYLA')\n",
    "    print('i= ',i,' i+3= ', i+3)\n",
    "    print('all= ', res)"
   ]
  },
  {
   "cell_type": "code",
   "execution_count": null,
   "id": "6477d68f",
   "metadata": {},
   "outputs": [],
   "source": []
  },
  {
   "cell_type": "code",
   "execution_count": null,
   "id": "fb6c06c8",
   "metadata": {},
   "outputs": [],
   "source": []
  }
 ],
 "metadata": {
  "kernelspec": {
   "display_name": "Python 3 (ipykernel)",
   "language": "python",
   "name": "python3"
  },
  "language_info": {
   "codemirror_mode": {
    "name": "ipython",
    "version": 3
   },
   "file_extension": ".py",
   "mimetype": "text/x-python",
   "name": "python",
   "nbconvert_exporter": "python",
   "pygments_lexer": "ipython3",
   "version": "3.9.13"
  }
 },
 "nbformat": 4,
 "nbformat_minor": 5
}
