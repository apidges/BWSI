{
 "cells": [
  {
   "cell_type": "code",
   "execution_count": 405,
   "id": "a08c8b21",
   "metadata": {},
   "outputs": [
    {
     "data": {
      "application/x-qsharp-data": "\"Connecting to Azure Quantum...\"",
      "text/plain": [
       "Connecting to Azure Quantum..."
      ]
     },
     "metadata": {},
     "output_type": "display_data"
    },
    {
     "name": "stdout",
     "output_type": "stream",
     "text": [
      "Connected to Azure Quantum workspace BWSI-1 in location eastus.\r\n"
     ]
    }
   ],
   "source": [
    "import qsharp.azure\n",
    "\n",
    "targets = qsharp.azure.connect(\n",
    "            resourceId = \"/subscriptions/6e59a4f1-00d8-48eb-8a3b-5127c7b07bd9/resourceGroups/AzureQuantum/providers/Microsoft.Quantum/Workspaces/BWSI-1\",\n",
    "            location = \"eastus\")"
   ]
  },
  {
   "cell_type": "code",
   "execution_count": 406,
   "id": "b923792b",
   "metadata": {},
   "outputs": [
    {
     "name": "stdout",
     "output_type": "stream",
     "text": [
      "This workspace's targets:\n",
      "- ionq.qpu\n",
      "- ionq.qpu.aria-1\n",
      "- ionq.simulator\n",
      "- microsoft.estimator\n",
      "- quantinuum.hqs-lt-s1\n",
      "- quantinuum.hqs-lt-s1-apival\n",
      "- quantinuum.hqs-lt-s2\n",
      "- quantinuum.hqs-lt-s2-apival\n",
      "- quantinuum.hqs-lt-s1-sim\n",
      "- quantinuum.hqs-lt-s2-sim\n",
      "- quantinuum.qpu.h1-1\n",
      "- quantinuum.sim.h1-1sc\n",
      "- quantinuum.qpu.h1-2\n",
      "- quantinuum.sim.h1-2sc\n",
      "- quantinuum.sim.h1-1e\n",
      "- quantinuum.sim.h1-2e\n",
      "- rigetti.sim.qvm\n",
      "- rigetti.qpu.aspen-m-2\n",
      "- rigetti.qpu.aspen-m-3\n"
     ]
    }
   ],
   "source": [
    "import qsharp\n",
    "\n",
    "print(\"This workspace's targets:\")\n",
    "for target in targets:\n",
    "    print(\"-\", target.id)"
   ]
  },
  {
   "cell_type": "code",
   "execution_count": 407,
   "id": "3cd26a66",
   "metadata": {},
   "outputs": [],
   "source": [
    "runQAOA: any = None"
   ]
  },
  {
   "cell_type": "code",
   "execution_count": 408,
   "id": "092182c7",
   "metadata": {},
   "outputs": [],
   "source": [
    "import qsharp"
   ]
  },
  {
   "cell_type": "code",
   "execution_count": 419,
   "id": "0c2af713",
   "metadata": {},
   "outputs": [
    {
     "name": "stdout",
     "output_type": "stream",
     "text": [
      "D:\\snippet_.qs(44,19): warning QS3308: Deprecated syntax. Use [] to construct an empty array, or [x, size = n] to construct an array of x repeated n times.\r\n",
      "D:\\snippet_.qs(114,19): warning QS3308: Deprecated syntax. Use [] to construct an empty array, or [x, size = n] to construct an array of x repeated n times.\r\n",
      "D:\\snippet_.qs(46,27): warning QS5023: The target Unspecified does not support comparing measurement results.\r\n"
     ]
    }
   ],
   "source": [
    "%%qsharp\n",
    "\n",
    "\n",
    "open Microsoft.Quantum.Canon;\n",
    "open Microsoft.Quantum.Intrinsic;\n",
    "open Microsoft.Quantum.Convert;\n",
    "open Microsoft.Quantum.Math;\n",
    "open Microsoft.Quantum.Arithmetic;\n",
    "open Microsoft.Quantum.Preparation;\n",
    "open Microsoft.Quantum.Diagnostics;\n",
    "\n",
    "operation getGraphLength():Int{\n",
    "    return 4;\n",
    "}\n",
    "\n",
    "operation completeCycle(gamma: Double, beta: Double, p: Int): Double {\n",
    "    return meanCostInverse(QAOA(gamma, beta, p));\n",
    "}\n",
    "\n",
    "operation getGraphWeigths():Double[][]{\n",
    "    //return [[0.,100.,0.,0.], [100.,0.,0.,0.], [0.,0.,0.,0.], [0.,0.,0.,0.]];\n",
    "    return [[0., 1., 1., 1.],\n",
    " [1., 0., 1., 0.],\n",
    " [1., 1., 0., 1.],\n",
    " [1., 0., 1., 0.]];\n",
    "}\n",
    "\n",
    "\n",
    "operation QAOA(gamma:Double, beta:Double, p:Int):Int[]{\n",
    "    \n",
    "    //input register\n",
    "    use register = Qubit[getGraphLength()];\n",
    "    \n",
    "    //prepare qubits by creating uniform superposition\n",
    "    ApplyToEach(H, register);\n",
    "\n",
    "    //repeat cost and mixer steps p times\n",
    "    //I think that we might need a new gamma and beta for each p\n",
    "    for i in 1..p{\n",
    "        costLayer(register, gamma);\n",
    "        mixerLayer(register, beta);\n",
    "    }\n",
    "\n",
    "    //Read the results as int array\n",
    "    mutable res = new Int[Length(register)];\n",
    "    for i in 0..Length(register)-1{\n",
    "        set res w/= i <- (M(register[i]) == One ? 1 | 0);\n",
    "    }\n",
    "\n",
    "    //return the results\n",
    "    return res;\n",
    "}\n",
    "\n",
    "operation mixerLayer(register:Qubit[], beta:Double):Unit{\n",
    "    ApplyToEach(Rx(2.*beta, _), register); //the '2*beta' is from the qiskit vid https://www.youtube.com/watch?v=YpLzSQPrgSc\n",
    "}\n",
    "    \n",
    "operation costLayer(register:Qubit[], gamma:Double):Unit{\n",
    "    ApplyToEach(Rz(gamma, _), register); //should be weighted I think but idk how\n",
    "    let weights = getGraphWeigths();\n",
    "    for i in 0..Length(register)-1{\n",
    "         for j in i+1..Length(register)-1{\n",
    "             Rzz(gamma*weights[i][j], register[i], register[j]);\n",
    "         }\n",
    "     }\n",
    "}\n",
    "   \n",
    "operation meanCostInverse(register: Int[]) : Double {\n",
    "    mutable cost = 0.0;\n",
    "    for i in 0 .. Length(register) - 1 {\n",
    "        for j in i..Length(register)-1{\n",
    "            let xi = IntAsDouble(register[i]);\n",
    "            let xj = IntAsDouble(register[j]);\n",
    "            set cost -= (1.-xi*xj)/2.; //from https://www.youtube.com/watch?v=aFVnWq3RHYU&t=126s\n",
    "        }\n",
    "    }\n",
    "    return cost;// / IntAsDouble(Length(register));\n",
    "}\n",
    "\n",
    "operation meanCostInverse2(register: Int[]) : Double {\n",
    "    mutable cost = 0.0;\n",
    "    let weights = getGraphWeigths();\n",
    "    for i in 0 .. Length(register) - 1 {\n",
    "        for j in i..Length(register)-1{\n",
    "            let xi = IntAsDouble(register[i]);\n",
    "            let xj = IntAsDouble(register[j]);\n",
    "            if (xi!=xj){\n",
    "                set cost -=weights[i][j] ;\n",
    "            }\n",
    "        }\n",
    "    }\n",
    "    return cost;// / IntAsDouble(Length(register));\n",
    "}\n",
    "\n",
    "\n",
    "//-----------------------------------------------------------------------------------------------------\n",
    "//Azure stuff\n",
    "\n",
    "operation QAOAAzure(gamma:Double, beta:Double, p:Int):Result[]{\n",
    "    \n",
    "    //input register\n",
    "    use register = Qubit[getGraphLength()];\n",
    "    \n",
    "    //prepare qubits by creating uniform superposition\n",
    "    ApplyToEach(H, register);\n",
    "\n",
    "    //repeat cost and mixer steps p times\n",
    "    //I think that we might need a new gamma and beta for each p\n",
    "    for i in 1..p{\n",
    "        costLayer(register, gamma);\n",
    "        mixerLayer(register, beta);\n",
    "    }\n",
    "\n",
    "    //Read the results as int array\n",
    "    mutable res = new Result[Length(register)];\n",
    "    for i in 0..Length(register)-1{\n",
    "        set res w/= i <- M(register[i]);\n",
    "    }\n",
    "\n",
    "    //return the results\n",
    "    return res;\n",
    "}\n"
   ]
  },
  {
   "cell_type": "code",
   "execution_count": 421,
   "id": "4913f652",
   "metadata": {},
   "outputs": [],
   "source": [
    "%%qsharp\n",
    "@EntryPoint()\n",
    "operation runQAOA():Result[]{\n",
    "    let x = QAOAAzure(1.,1.,1);\n",
    "    return x;\n",
    "}"
   ]
  },
  {
   "cell_type": "code",
   "execution_count": 423,
   "id": "045f627e",
   "metadata": {},
   "outputs": [],
   "source": [
    "# # Set the target to ionq.simulator\n",
    "# qsharp.azure.target(\"ionq.simulator\")\n",
    "\n",
    "# # We'll use 100 shots (simulated runs). Timeout is in seconds.\n",
    "# result = qsharp.azure.execute(runQAOA, shots=100, jobName=\"run QAOA\", timeout=240)"
   ]
  },
  {
   "cell_type": "code",
   "execution_count": null,
   "id": "50dd93b5",
   "metadata": {},
   "outputs": [],
   "source": []
  },
  {
   "cell_type": "code",
   "execution_count": 424,
   "id": "b591de50",
   "metadata": {},
   "outputs": [
    {
     "name": "stdout",
     "output_type": "stream",
     "text": [
      "[0, 0, 0, 1]\n",
      "[0, 0, 0, 1]\n",
      "[0, 1, 0, 1]\n",
      "[0, 0, 0, 0]\n",
      "[1, 1, 1, 1]\n",
      "[0, 1, 0, 1]\n",
      "[0, 0, 0, 0]\n",
      "[0, 0, 0, 0]\n",
      "[0, 1, 0, 0]\n",
      "[0, 0, 0, 0]\n"
     ]
    }
   ],
   "source": [
    "for i in range(10):\n",
    "    print(QAOA.simulate(gamma=1, beta=1, p=10))"
   ]
  },
  {
   "cell_type": "code",
   "execution_count": 425,
   "id": "daa2bb0d",
   "metadata": {},
   "outputs": [],
   "source": [
    "import numpy as np\n",
    "from scipy.optimize import minimize"
   ]
  },
  {
   "cell_type": "code",
   "execution_count": 426,
   "id": "1f353a22",
   "metadata": {},
   "outputs": [],
   "source": [
    "def obj_func(params):\n",
    "    myres=completeCycle.simulate(gamma=params[0], beta=params[1], p=1);\n",
    "    print('res= ', myres)\n",
    "    print('params= ', params)\n"
   ]
  },
  {
   "cell_type": "code",
   "execution_count": 427,
   "id": "f80284c0",
   "metadata": {},
   "outputs": [],
   "source": [
    "def getMostFrequent(gamma, beta):\n",
    "    myDict = {}\n",
    "    for i in range(1000):\n",
    "        res = QAOA.simulate(gamma=gamma, beta=beta, p=1)\n",
    "        res=tuple(res)\n",
    "        if res in myDict.keys():\n",
    "            myDict.update({res:myDict.get(res)+1})\n",
    "        else:\n",
    "            myDict.update({res:0})\n",
    "    return np.array(max(myDict))"
   ]
  },
  {
   "cell_type": "code",
   "execution_count": 428,
   "id": "31ec20df",
   "metadata": {},
   "outputs": [
    {
     "name": "stdout",
     "output_type": "stream",
     "text": [
      "[1 1 1 1]\n"
     ]
    }
   ],
   "source": [
    "print(getMostFrequent(11.,0.))"
   ]
  },
  {
   "cell_type": "code",
   "execution_count": 429,
   "id": "2104bd60",
   "metadata": {},
   "outputs": [],
   "source": [
    "def compute_expectation(counts):\n",
    "    \"\"\"Computes expectation value based on measurement results\n",
    "    Args:\n",
    "        counts: (dict) key as bit string, val as count\n",
    "        graph: networkx graph\n",
    "    Returns:\n",
    "        avg: float\n",
    "             expectation value\n",
    "    \"\"\"\n",
    "    avg = 0\n",
    "    sum_count = 0\n",
    "    for bit_string, count in counts.items():\n",
    "        obj = meanCostInverse2.simulate(register=np.array(bit_string))\n",
    "        #print(obj, ' =? ', meanCostInverse.simulate(register=np.array(bit_string)))\n",
    "        avg += obj * count\n",
    "        sum_count += count\n",
    "    return avg/sum_count"
   ]
  },
  {
   "cell_type": "code",
   "execution_count": 438,
   "id": "2abaf6e4",
   "metadata": {},
   "outputs": [],
   "source": [
    "def getFrequencyDict(gamma, beta):\n",
    "    myDict = {}\n",
    "    for i in range(100):\n",
    "        res = QAOA.simulate(gamma=gamma, beta=beta, p=1)\n",
    "        res=tuple(res)\n",
    "        if res in myDict.keys():\n",
    "            myDict.update({res:myDict.get(res)+1})\n",
    "        else:\n",
    "            myDict.update({res:0})\n",
    "        #res=np.array(res)\n",
    "    print(np.array(max(myDict, key=myDict.get)))\n",
    "    #print(myDict)\n",
    "    return myDict"
   ]
  },
  {
   "cell_type": "code",
   "execution_count": 439,
   "id": "2e97e39d",
   "metadata": {},
   "outputs": [
    {
     "name": "stdout",
     "output_type": "stream",
     "text": [
      "[0 0 0 0]\n",
      "-2.2386363636363638\n"
     ]
    }
   ],
   "source": [
    "print(compute_expectation(getFrequencyDict(1.,1.)))"
   ]
  },
  {
   "cell_type": "code",
   "execution_count": 440,
   "id": "1a0c2bb3",
   "metadata": {},
   "outputs": [],
   "source": [
    "def obj_func4(params):\n",
    "    return compute_expectation(getFrequencyDict(params[0],params[1]))"
   ]
  },
  {
   "cell_type": "code",
   "execution_count": 441,
   "id": "5e72c76a",
   "metadata": {},
   "outputs": [
    {
     "name": "stdout",
     "output_type": "stream",
     "text": [
      "[0 0 0 0]\n",
      "[1 0 1 0]\n",
      "[0 1 0 1]\n",
      "[1 0 1 0]\n",
      "[1 0 1 0]\n",
      "[0 0 0 1]\n",
      "[1 0 1 0]\n",
      "[0 0 0 0]\n",
      "[1 0 1 0]\n",
      "[1 0 1 0]\n",
      "[1 0 1 0]\n",
      "[1 0 1 0]\n",
      "[1 0 1 0]\n",
      "[1 0 1 0]\n",
      "[1 0 1 0]\n",
      "[1 0 1 0]\n",
      "[1 0 1 0]\n",
      "[1 0 1 0]\n",
      "[1 0 1 0]\n",
      "[1 0 1 0]\n",
      "[1 0 1 0]\n",
      "[1 0 1 0]\n",
      "[1 0 1 0]\n",
      "[1 0 1 0]\n",
      "[1 0 1 0]\n",
      "[1 0 1 0]\n",
      "[1 0 1 0]\n",
      "[1 0 1 0]\n",
      "[1 0 1 0]\n",
      "[1 0 1 0]\n",
      "all=       fun: -3.0476190476190474\n",
      "   maxcv: 0.0\n",
      " message: 'Optimization terminated successfully.'\n",
      "    nfev: 30\n",
      "  status: 1\n",
      " success: True\n",
      "       x: array([2.41083562, 0.65321836])\n"
     ]
    }
   ],
   "source": [
    "res = minimize(obj_func4,[1.0, 1.0], method='COBYLA')\n",
    "print('all= ', res)"
   ]
  },
  {
   "cell_type": "code",
   "execution_count": 251,
   "id": "52f11e0d",
   "metadata": {},
   "outputs": [],
   "source": [
    "def obj_func2 (params):\n",
    "    myregister=getMostFrequent(params[0], params[1])\n",
    "    print('params= ', params)\n",
    "    print('register= ', myregister)\n",
    "    myRes=meanCostInverse.simulate(register=myregister)\n",
    "    print('cost= ', myRes)\n",
    "    return myRes"
   ]
  },
  {
   "cell_type": "code",
   "execution_count": 252,
   "id": "f6c3b82d",
   "metadata": {},
   "outputs": [
    {
     "name": "stdout",
     "output_type": "stream",
     "text": [
      "params=  [2.0, 2.0]\n",
      "register=  [1 1 1 1]\n",
      "cost=  1.0\n",
      "1.0\n"
     ]
    }
   ],
   "source": [
    "print(obj_func2([2.,2.]))"
   ]
  },
  {
   "cell_type": "code",
   "execution_count": 253,
   "id": "faea1554",
   "metadata": {
    "scrolled": true
   },
   "outputs": [
    {
     "name": "stdout",
     "output_type": "stream",
     "text": [
      "params=  [0. 0.]\n",
      "register=  [1 1 1 1]\n",
      "cost=  1.0\n",
      "params=  [1. 0.]\n",
      "register=  [1 1 1 1]\n",
      "cost=  1.0\n",
      "params=  [0. 1.]\n",
      "register=  [1 1 1 1]\n",
      "cost=  1.0\n",
      "params=  [0.125 0.   ]\n",
      "register=  [1 1 1 1]\n",
      "cost=  1.0\n",
      "params=  [0.    0.125]\n",
      "register=  [1 1 1 1]\n",
      "cost=  1.0\n",
      "params=  [0.015625 0.      ]\n",
      "register=  [1 1 1 1]\n",
      "cost=  1.0\n",
      "params=  [0.       0.015625]\n",
      "register=  [1 1 1 1]\n",
      "cost=  1.0\n",
      "params=  [0.00195312 0.        ]\n",
      "register=  [1 1 1 1]\n",
      "cost=  1.0\n",
      "params=  [0.         0.00195312]\n",
      "register=  [1 1 1 1]\n",
      "cost=  1.0\n",
      "params=  [0.00024414 0.        ]\n",
      "register=  [1 1 1 1]\n",
      "cost=  1.0\n",
      "params=  [0.         0.00024414]\n",
      "register=  [1 1 1 1]\n",
      "cost=  1.0\n",
      "params=  [5.e-05 0.e+00]\n",
      "register=  [1 1 1 1]\n",
      "cost=  1.0\n",
      "params=  [0.e+00 5.e-05]\n",
      "register=  [1 1 1 1]\n",
      "cost=  1.0\n",
      "all=       fun: 1.0\n",
      "   maxcv: 0.0\n",
      " message: 'Optimization terminated successfully.'\n",
      "    nfev: 13\n",
      "  status: 1\n",
      " success: True\n",
      "       x: array([0., 0.])\n"
     ]
    }
   ],
   "source": [
    "res = minimize(obj_func2,[0.0, 0.0], method='COBYLA')\n",
    "print('all= ', res)"
   ]
  },
  {
   "cell_type": "code",
   "execution_count": 254,
   "id": "ebdaa41f",
   "metadata": {},
   "outputs": [],
   "source": [
    "def obj_func3 (params):\n",
    "    myregister=QAOA.simulate(gamma=params[0], beta=params[1], p=1)\n",
    "    #print('params= ', params)\n",
    "    #print('register= ', myregister)\n",
    "    myRes=meanCostInverse.simulate(register=myregister)\n",
    "    print('cost= ', myRes)\n",
    "    return myRes"
   ]
  },
  {
   "cell_type": "code",
   "execution_count": 255,
   "id": "eb117c24",
   "metadata": {},
   "outputs": [
    {
     "name": "stdout",
     "output_type": "stream",
     "text": [
      "cost=  1.0\n",
      "1.0\n"
     ]
    }
   ],
   "source": [
    "print(obj_func3([2.,2.]))"
   ]
  },
  {
   "cell_type": "code",
   "execution_count": 256,
   "id": "b15963af",
   "metadata": {},
   "outputs": [
    {
     "name": "stdout",
     "output_type": "stream",
     "text": [
      "cost=  -0.25\n",
      "cost=  0.875\n",
      "cost=  -0.25\n",
      "cost=  -0.25\n",
      "cost=  -0.25\n",
      "cost=  -0.25\n",
      "cost=  1.0\n",
      "cost=  -0.25\n",
      "cost=  -0.25\n",
      "cost=  0.125\n",
      "cost=  -0.25\n",
      "cost=  -0.25\n",
      "cost=  1.0\n",
      "cost=  0.5\n",
      "cost=  0.5\n",
      "cost=  -0.25\n",
      "cost=  -0.25\n",
      "cost=  -0.25\n",
      "cost=  -0.25\n",
      "i=  0  i+3=  3\n",
      "all=       fun: -0.25\n",
      "   maxcv: 0.0\n",
      " message: 'Optimization terminated successfully.'\n",
      "    nfev: 19\n",
      "  status: 1\n",
      " success: True\n",
      "       x: array([0., 3.])\n",
      "cost=  1.0\n",
      "cost=  0.5\n",
      "cost=  1.0\n",
      "cost=  -0.25\n",
      "cost=  1.0\n",
      "cost=  -0.25\n",
      "cost=  -0.25\n",
      "cost=  0.875\n",
      "cost=  0.125\n",
      "cost=  -0.25\n",
      "cost=  -0.25\n",
      "cost=  0.0\n",
      "cost=  -0.25\n",
      "cost=  0.625\n",
      "cost=  -0.25\n",
      "cost=  -0.25\n",
      "cost=  0.875\n",
      "cost=  0.125\n",
      "cost=  -0.25\n",
      "cost=  0.875\n",
      "cost=  0.625\n",
      "cost=  -0.25\n",
      "cost=  -0.25\n",
      "cost=  0.5\n",
      "cost=  0.625\n",
      "cost=  0.375\n",
      "cost=  -0.25\n",
      "i=  1  i+3=  4\n",
      "all=       fun: -0.25\n",
      "   maxcv: 0.0\n",
      " message: 'Optimization terminated successfully.'\n",
      "    nfev: 27\n",
      "  status: 1\n",
      " success: True\n",
      "       x: array([2.70719847, 3.29285332])\n",
      "cost=  -0.25\n",
      "cost=  -0.25\n",
      "cost=  -0.25\n",
      "cost=  0.125\n",
      "cost=  -0.25\n",
      "cost=  0.5\n",
      "cost=  1.0\n",
      "cost=  0.625\n",
      "cost=  -0.25\n",
      "cost=  0.375\n",
      "cost=  -0.25\n",
      "cost=  0.375\n",
      "cost=  -0.25\n",
      "cost=  1.0\n",
      "cost=  -0.25\n",
      "cost=  0.5\n",
      "cost=  0.875\n",
      "cost=  0.5\n",
      "cost=  -0.25\n",
      "cost=  -0.25\n",
      "cost=  -0.25\n",
      "cost=  0.625\n",
      "cost=  0.625\n",
      "cost=  -0.25\n",
      "cost=  0.875\n",
      "cost=  -0.25\n",
      "cost=  0.5\n",
      "cost=  -0.25\n",
      "i=  2  i+3=  5\n",
      "all=       fun: -0.25\n",
      "   maxcv: 0.0\n",
      " message: 'Optimization terminated successfully.'\n",
      "    nfev: 28\n",
      "  status: 1\n",
      " success: True\n",
      "       x: array([2.00008, 4.99994])\n",
      "cost=  -0.25\n",
      "cost=  -0.25\n",
      "cost=  -0.25\n",
      "cost=  -0.25\n",
      "cost=  0.375\n",
      "cost=  -0.25\n",
      "cost=  1.0\n",
      "cost=  0.5\n",
      "cost=  0.625\n",
      "cost=  0.5\n",
      "cost=  0.0\n",
      "cost=  -0.25\n",
      "cost=  0.5\n",
      "cost=  0.5\n",
      "cost=  -0.25\n",
      "cost=  -0.25\n",
      "cost=  0.125\n",
      "cost=  0.875\n",
      "cost=  0.0\n",
      "cost=  0.625\n",
      "cost=  -0.25\n",
      "cost=  1.0\n",
      "cost=  -0.25\n",
      "cost=  -0.25\n",
      "i=  3  i+3=  6\n",
      "all=       fun: -0.25\n",
      "   maxcv: 0.0\n",
      " message: 'Optimization terminated successfully.'\n",
      "    nfev: 24\n",
      "  status: 1\n",
      " success: True\n",
      "       x: array([3., 6.])\n",
      "cost=  0.125\n",
      "cost=  -0.25\n",
      "cost=  0.5\n",
      "cost=  1.0\n",
      "cost=  -0.25\n",
      "cost=  -0.25\n",
      "cost=  -0.25\n",
      "cost=  -0.25\n",
      "cost=  -0.25\n",
      "cost=  -0.25\n",
      "cost=  -0.25\n",
      "cost=  -0.25\n",
      "cost=  -0.25\n",
      "cost=  -0.25\n",
      "i=  4  i+3=  7\n",
      "all=       fun: -0.25\n",
      "   maxcv: 0.0\n",
      " message: 'Optimization terminated successfully.'\n",
      "    nfev: 14\n",
      "  status: 1\n",
      " success: True\n",
      "       x: array([5., 7.])\n"
     ]
    }
   ],
   "source": [
    "for i in range(5):\n",
    "    res = minimize(obj_func3,[i, i+3.0], method='COBYLA')\n",
    "    print('i= ',i,' i+3= ', i+3)\n",
    "    print('all= ', res)"
   ]
  },
  {
   "cell_type": "code",
   "execution_count": 398,
   "id": "c56add94",
   "metadata": {},
   "outputs": [
    {
     "ename": "ImportError",
     "evalue": "attempted relative import with no known parent package",
     "output_type": "error",
     "traceback": [
      "\u001b[1;31m---------------------------------------------------------------------------\u001b[0m",
      "\u001b[1;31mImportError\u001b[0m                               Traceback (most recent call last)",
      "\u001b[1;32m~\\AppData\\Local\\Temp\\ipykernel_41280\\998611671.py\u001b[0m in \u001b[0;36m<module>\u001b[1;34m\u001b[0m\n\u001b[1;32m----> 1\u001b[1;33m \u001b[1;32mfrom\u001b[0m \u001b[1;33m.\u001b[0m \u001b[1;32mimport\u001b[0m \u001b[0mQAOA\u001b[0m\u001b[1;33m\u001b[0m\u001b[1;33m\u001b[0m\u001b[0m\n\u001b[0m",
      "\u001b[1;31mImportError\u001b[0m: attempted relative import with no known parent package"
     ]
    }
   ],
   "source": [
    "from . import QAOA"
   ]
  },
  {
   "cell_type": "code",
   "execution_count": 397,
   "id": "6477d68f",
   "metadata": {},
   "outputs": [
    {
     "ename": "AttributeError",
     "evalue": "'QSharpCallable' object has no attribute 'estimate_resources'",
     "output_type": "error",
     "traceback": [
      "\u001b[1;31m---------------------------------------------------------------------------\u001b[0m",
      "\u001b[1;31mAttributeError\u001b[0m                            Traceback (most recent call last)",
      "\u001b[1;32m~\\AppData\\Local\\Temp\\ipykernel_41280\\2905718413.py\u001b[0m in \u001b[0;36m<module>\u001b[1;34m\u001b[0m\n\u001b[1;32m----> 1\u001b[1;33m QAOA.estimate_resources(\n\u001b[0m\u001b[0;32m      2\u001b[0m     \u001b[0mJWEncodedData\u001b[0m\u001b[1;33m=\u001b[0m\u001b[0mencoded_data_caffeine\u001b[0m\u001b[1;33m,\u001b[0m\u001b[1;33m\u001b[0m\u001b[1;33m\u001b[0m\u001b[0m\n\u001b[0;32m      3\u001b[0m     \u001b[0mgamma\u001b[0m\u001b[1;33m=\u001b[0m\u001b[1;36m0.0\u001b[0m\u001b[1;33m,\u001b[0m\u001b[1;33m\u001b[0m\u001b[1;33m\u001b[0m\u001b[0m\n\u001b[0;32m      4\u001b[0m     \u001b[0mbeta\u001b[0m\u001b[1;33m=\u001b[0m\u001b[1;33m-\u001b[0m\u001b[1;36m0.0\u001b[0m\u001b[1;33m,\u001b[0m\u001b[1;33m\u001b[0m\u001b[1;33m\u001b[0m\u001b[0m\n\u001b[0;32m      5\u001b[0m     \u001b[0mp\u001b[0m\u001b[1;33m=\u001b[0m\u001b[1;36m1\u001b[0m\u001b[1;33m,\u001b[0m\u001b[1;33m\u001b[0m\u001b[1;33m\u001b[0m\u001b[0m\n",
      "\u001b[1;31mAttributeError\u001b[0m: 'QSharpCallable' object has no attribute 'estimate_resources'"
     ]
    }
   ],
   "source": [
    "QAOA.estimate_resources(\n",
    "    JWEncodedData=encoded_data_caffeine,\n",
    "    gamma=0.0,\n",
    "    beta=-0.0,\n",
    "    p=1,\n",
    ")"
   ]
  },
  {
   "cell_type": "code",
   "execution_count": null,
   "id": "fb6c06c8",
   "metadata": {},
   "outputs": [],
   "source": []
  },
  {
   "cell_type": "code",
   "execution_count": null,
   "id": "fba5eb0d",
   "metadata": {},
   "outputs": [],
   "source": []
  }
 ],
 "metadata": {
  "kernelspec": {
   "display_name": "Python 3 (ipykernel)",
   "language": "python",
   "name": "python3"
  },
  "language_info": {
   "codemirror_mode": {
    "name": "ipython",
    "version": 3
   },
   "file_extension": ".py",
   "mimetype": "text/x-python",
   "name": "python",
   "nbconvert_exporter": "python",
   "pygments_lexer": "ipython3",
   "version": "3.9.13"
  }
 },
 "nbformat": 4,
 "nbformat_minor": 5
}
