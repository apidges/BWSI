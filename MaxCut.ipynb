{
 "cells": [
  {
   "cell_type": "code",
   "execution_count": 189,
   "id": "45d97e30",
   "metadata": {},
   "outputs": [],
   "source": [
    "import qsharp"
   ]
  },
  {
   "cell_type": "code",
   "execution_count": 208,
   "id": "b7cfdb48",
   "metadata": {},
   "outputs": [
    {
     "name": "stdout",
     "output_type": "stream",
     "text": [
      "D:\\snippet_.qs(39,19): warning QS3308: Deprecated syntax. Use [] to construct an empty array, or [x, size = n] to construct an array of x repeated n times.\r\n"
     ]
    }
   ],
   "source": [
    "%%qsharp\n",
    "\n",
    "\n",
    "open Microsoft.Quantum.Canon;\n",
    "open Microsoft.Quantum.Intrinsic;\n",
    "open Microsoft.Quantum.Convert;\n",
    "open Microsoft.Quantum.Math;\n",
    "open Microsoft.Quantum.Arithmetic;\n",
    "open Microsoft.Quantum.Preparation;\n",
    "open Microsoft.Quantum.Diagnostics;\n",
    "\n",
    "operation getGraphLength():Int{\n",
    "    return 4;\n",
    "}\n",
    "\n",
    "operation getGraphWeigths():Double[][]{\n",
    "    return [[0.,100.,0.,0.], [100.,0.,0.,0.], [0.,0.,0.,0.], [0.,0.,0.,0.]];\n",
    "}\n",
    "\n",
    "operation completeCycle(gamma: Double, beta: Double, p: Int): Double {\n",
    "    return meanCostInverse(QAOA(gamma, beta, p));\n",
    "}\n",
    "\n",
    "operation QAOA(gamma:Double, beta:Double, p:Int):Int[]{\n",
    "    \n",
    "    //input register\n",
    "    use register = Qubit[getGraphLength()];\n",
    "    \n",
    "    //prepare qubits by creating uniform superposition\n",
    "    ApplyToEach(H, register);\n",
    "\n",
    "    //repeat cost and mixer steps p times\n",
    "    //I think that we might need a new gamma and beta for each p\n",
    "    for i in 1..p{\n",
    "        costLayer(register, gamma);\n",
    "        mixerLayer(register, beta);\n",
    "    }\n",
    "\n",
    "    //Read the results as int array\n",
    "    mutable res = new Int[Length(register)];\n",
    "    for i in 0..Length(register)-1{\n",
    "        set res w/= i <- (M(register[i]) == One ? 1 | 0);\n",
    "    }\n",
    "\n",
    "    //return the results\n",
    "    return res;\n",
    "}\n",
    "\n",
    "operation mixerLayer(register:Qubit[], beta:Double):Unit{\n",
    "    ApplyToEach(Rx(2.*beta, _), register); //the '2*beta' is from the qiskit vid https://www.youtube.com/watch?v=YpLzSQPrgSc\n",
    "}\n",
    "    \n",
    "operation costLayer(register:Qubit[], gamma:Double):Unit{\n",
    "    ApplyToEach(Rz(gamma, _), register); //should be weighted I think but idk how\n",
    "    let weights = getGraphWeigths();\n",
    "    for i in 0..Length(register)-1{\n",
    "         for j in i+1..Length(register)-1{\n",
    "             Rzz(gamma*weights[i][j], register[i], register[j]);\n",
    "         }\n",
    "     }\n",
    "}\n",
    "   \n",
    "operation meanCostInverse(register: Int[]) : Double {\n",
    "    mutable cost = 0.;//IntAsDouble(Length(register));\n",
    "    let weights = getGraphWeigths();\n",
    "    for i in 0 .. Length(register) - 1 {\n",
    "        for j in i..Length(register)-1{\n",
    "            set cost += weights[i][j];\n",
    "        }\n",
    "    }\n",
    "    for i in 0 .. Length(register) - 1 {\n",
    "        for j in i..Length(register)-1{\n",
    "            let xi = IntAsDouble(register[1]);\n",
    "            let xj = IntAsDouble(register[j]);\n",
    "            set cost -= weights[i][j]*(1.-xi*xj)/2.; //from https://www.youtube.com/watch?v=aFVnWq3RHYU&t=126s\n",
    "        }\n",
    "    }\n",
    "    return cost / IntAsDouble(Length(register));\n",
    "}\n"
   ]
  },
  {
   "cell_type": "code",
   "execution_count": 209,
   "id": "d813f649",
   "metadata": {},
   "outputs": [
    {
     "name": "stdout",
     "output_type": "stream",
     "text": [
      "[1, 0, 1, 0]\n",
      "[0, 1, 1, 0]\n",
      "[0, 0, 0, 0]\n",
      "[0, 0, 0, 0]\n",
      "[1, 0, 0, 1]\n",
      "[1, 1, 0, 0]\n",
      "[0, 0, 0, 0]\n",
      "[1, 0, 0, 0]\n",
      "[0, 0, 0, 0]\n",
      "[1, 1, 0, 0]\n"
     ]
    }
   ],
   "source": [
    "for i in range(10):\n",
    "    print(QAOA.simulate(gamma=1, beta=1, p=10))"
   ]
  },
  {
   "cell_type": "code",
   "execution_count": 210,
   "id": "09d6996e",
   "metadata": {},
   "outputs": [],
   "source": [
    "import numpy as np\n",
    "from scipy.optimize import minimize"
   ]
  },
  {
   "cell_type": "code",
   "execution_count": 211,
   "id": "7f2436dd",
   "metadata": {},
   "outputs": [],
   "source": [
    "def obj_func(params):\n",
    "    myres=completeCycle.simulate(gamma=params[0], beta=params[1], p=1);\n",
    "    print('res= ', myres)\n",
    "    print('params= ', params)\n"
   ]
  },
  {
   "cell_type": "code",
   "execution_count": 212,
   "id": "60ae18c7",
   "metadata": {},
   "outputs": [],
   "source": [
    "def getMostFrequent(gamma, beta):\n",
    "    myDict = {}\n",
    "    for i in range(1000):\n",
    "        res = QAOA.simulate(gamma=gamma, beta=beta, p=1)\n",
    "        res=tuple(res)\n",
    "        if res in myDict.keys():\n",
    "            myDict.update({res:myDict.get(res)+1})\n",
    "        else:\n",
    "            myDict.update({res:0})\n",
    "    return np.array(max(myDict))"
   ]
  },
  {
   "cell_type": "code",
   "execution_count": 213,
   "id": "1797475c",
   "metadata": {},
   "outputs": [
    {
     "name": "stdout",
     "output_type": "stream",
     "text": [
      "[1 1 1 1]\n"
     ]
    }
   ],
   "source": [
    "print(getMostFrequent(0.,0.))"
   ]
  },
  {
   "cell_type": "code",
   "execution_count": 214,
   "id": "df72081f",
   "metadata": {},
   "outputs": [],
   "source": [
    "def obj_func2 (params):\n",
    "    myregister=getMostFrequent(params[0], params[1])\n",
    "    print('params= ', params)\n",
    "    print('register= ', myregister)\n",
    "    myRes=meanCostInverse.simulate(register=myregister)\n",
    "    print('cost= ', myRes)\n",
    "    return myRes"
   ]
  },
  {
   "cell_type": "code",
   "execution_count": 215,
   "id": "6d418808",
   "metadata": {},
   "outputs": [
    {
     "name": "stdout",
     "output_type": "stream",
     "text": [
      "params=  [2.0, 2.0]\n",
      "register=  [1 1 1 1]\n",
      "cost=  25.0\n",
      "25.0\n"
     ]
    }
   ],
   "source": [
    "print(obj_func2([2.,2.]))"
   ]
  },
  {
   "cell_type": "code",
   "execution_count": 216,
   "id": "3e6b7c2a",
   "metadata": {
    "scrolled": true
   },
   "outputs": [
    {
     "name": "stdout",
     "output_type": "stream",
     "text": [
      "params=  [0. 0.]\n",
      "register=  [1 1 1 1]\n",
      "cost=  25.0\n",
      "params=  [1. 0.]\n",
      "register=  [1 1 1 1]\n",
      "cost=  25.0\n",
      "params=  [0. 1.]\n",
      "register=  [1 1 1 1]\n",
      "cost=  25.0\n",
      "params=  [0.125 0.   ]\n",
      "register=  [1 1 1 1]\n",
      "cost=  25.0\n",
      "params=  [0.    0.125]\n",
      "register=  [1 1 1 1]\n",
      "cost=  25.0\n",
      "params=  [0.015625 0.      ]\n",
      "register=  [1 1 1 1]\n",
      "cost=  25.0\n",
      "params=  [0.       0.015625]\n",
      "register=  [1 1 1 1]\n",
      "cost=  25.0\n",
      "params=  [0.00195312 0.        ]\n",
      "register=  [1 1 1 1]\n",
      "cost=  25.0\n",
      "params=  [0.         0.00195312]\n",
      "register=  [1 1 1 1]\n",
      "cost=  25.0\n",
      "params=  [0.00024414 0.        ]\n",
      "register=  [1 1 1 1]\n",
      "cost=  25.0\n",
      "params=  [0.         0.00024414]\n",
      "register=  [1 1 1 1]\n",
      "cost=  25.0\n",
      "params=  [5.e-05 0.e+00]\n",
      "register=  [1 1 1 1]\n",
      "cost=  25.0\n",
      "params=  [0.e+00 5.e-05]\n",
      "register=  [1 1 1 1]\n",
      "cost=  25.0\n",
      "all=       fun: 25.0\n",
      "   maxcv: 0.0\n",
      " message: 'Optimization terminated successfully.'\n",
      "    nfev: 13\n",
      "  status: 1\n",
      " success: True\n",
      "       x: array([0., 0.])\n"
     ]
    }
   ],
   "source": [
    "res = minimize(obj_func2,[0.0, 0.0], method='COBYLA')\n",
    "print('all= ', res)"
   ]
  },
  {
   "cell_type": "code",
   "execution_count": 204,
   "id": "1f296182",
   "metadata": {},
   "outputs": [],
   "source": [
    "def obj_func3 (params):\n",
    "    myregister=QAOA.simulate(gamma=params[0], beta=params[1], p=1)\n",
    "    #print('params= ', params)\n",
    "    #print('register= ', myregister)\n",
    "    myRes=meanCostInverse.simulate(register=myregister)\n",
    "    print('cost= ', myRes)\n",
    "    return myRes"
   ]
  },
  {
   "cell_type": "code",
   "execution_count": 205,
   "id": "d68d0d5f",
   "metadata": {},
   "outputs": [
    {
     "name": "stdout",
     "output_type": "stream",
     "text": [
      "cost=  0.875\n",
      "0.875\n"
     ]
    }
   ],
   "source": [
    "print(obj_func3([2.,2.]))"
   ]
  },
  {
   "cell_type": "code",
   "execution_count": 206,
   "id": "ad755872",
   "metadata": {},
   "outputs": [
    {
     "name": "stdout",
     "output_type": "stream",
     "text": [
      "cost=  1.0\n",
      "cost=  1.0\n",
      "cost=  0.875\n",
      "cost=  0.875\n",
      "cost=  1.0\n",
      "cost=  0.875\n",
      "cost=  0.875\n",
      "cost=  1.0\n",
      "cost=  0.875\n",
      "cost=  1.0\n",
      "cost=  1.0\n",
      "cost=  1.0\n",
      "cost=  0.875\n",
      "cost=  1.0\n",
      "cost=  0.875\n",
      "cost=  0.875\n",
      "cost=  1.0\n",
      "cost=  1.0\n",
      "cost=  1.0\n",
      "cost=  0.875\n",
      "cost=  0.875\n",
      "cost=  0.875\n",
      "cost=  1.0\n",
      "cost=  1.0\n",
      "i=  0  i+3=  3\n",
      "all=       fun: 1.0\n",
      "   maxcv: 0.0\n",
      " message: 'Optimization terminated successfully.'\n",
      "    nfev: 24\n",
      "  status: 1\n",
      " success: True\n",
      "       x: array([-1.e-04,  4.e+00])\n",
      "cost=  0.875\n",
      "cost=  1.0\n",
      "cost=  0.875\n",
      "cost=  0.875\n",
      "cost=  0.875\n",
      "cost=  1.0\n",
      "cost=  0.875\n",
      "cost=  1.0\n",
      "cost=  0.875\n",
      "cost=  0.875\n",
      "cost=  0.875\n",
      "cost=  1.0\n",
      "cost=  0.875\n",
      "cost=  1.0\n",
      "cost=  0.875\n",
      "cost=  0.875\n",
      "cost=  0.875\n",
      "cost=  0.875\n",
      "cost=  1.0\n",
      "cost=  0.875\n",
      "i=  1  i+3=  4\n",
      "all=       fun: 0.875\n",
      "   maxcv: 0.0\n",
      " message: 'Optimization terminated successfully.'\n",
      "    nfev: 20\n",
      "  status: 1\n",
      " success: True\n",
      "       x: array([1.0001, 4.    ])\n",
      "cost=  0.875\n",
      "cost=  0.875\n",
      "cost=  1.0\n",
      "cost=  1.0\n",
      "cost=  1.0\n",
      "cost=  1.0\n",
      "cost=  0.875\n",
      "cost=  1.0\n",
      "cost=  1.0\n",
      "cost=  1.0\n",
      "cost=  0.875\n",
      "cost=  0.875\n",
      "cost=  1.0\n",
      "cost=  0.875\n",
      "cost=  0.875\n",
      "cost=  1.0\n",
      "cost=  1.0\n",
      "cost=  0.875\n",
      "cost=  1.0\n",
      "cost=  0.875\n",
      "cost=  0.875\n",
      "cost=  0.875\n",
      "i=  2  i+3=  5\n",
      "all=       fun: 0.875\n",
      "   maxcv: 0.0\n",
      " message: 'Optimization terminated successfully.'\n",
      "    nfev: 22\n",
      "  status: 1\n",
      " success: True\n",
      "       x: array([2., 5.])\n",
      "cost=  1.0\n",
      "cost=  1.0\n",
      "cost=  1.0\n",
      "cost=  1.0\n",
      "cost=  1.0\n",
      "cost=  1.0\n",
      "cost=  1.0\n",
      "cost=  0.875\n",
      "cost=  0.875\n",
      "cost=  1.0\n",
      "cost=  1.0\n",
      "cost=  0.875\n",
      "cost=  0.875\n",
      "cost=  1.0\n",
      "cost=  0.875\n",
      "cost=  0.875\n",
      "cost=  0.875\n",
      "i=  3  i+3=  6\n",
      "all=       fun: 0.875\n",
      "   maxcv: 0.0\n",
      " message: 'Optimization terminated successfully.'\n",
      "    nfev: 17\n",
      "  status: 1\n",
      " success: True\n",
      "       x: array([3.00195312, 6.        ])\n",
      "cost=  0.875\n",
      "cost=  1.0\n",
      "cost=  0.875\n",
      "cost=  0.875\n",
      "cost=  1.0\n",
      "cost=  0.875\n",
      "cost=  1.0\n",
      "cost=  0.875\n",
      "cost=  0.875\n",
      "cost=  1.0\n",
      "cost=  0.875\n",
      "cost=  0.875\n",
      "cost=  1.0\n",
      "cost=  1.0\n",
      "cost=  0.875\n",
      "cost=  1.0\n",
      "cost=  0.875\n",
      "cost=  0.875\n",
      "cost=  1.0\n",
      "cost=  1.0\n",
      "cost=  0.875\n",
      "cost=  0.875\n",
      "cost=  0.875\n",
      "i=  4  i+3=  7\n",
      "all=       fun: 0.875\n",
      "   maxcv: 0.0\n",
      " message: 'Optimization terminated successfully.'\n",
      "    nfev: 23\n",
      "  status: 1\n",
      " success: True\n",
      "       x: array([4., 7.])\n"
     ]
    }
   ],
   "source": [
    "for i in range(5):\n",
    "    res = minimize(obj_func3,[i, i+3.0], method='COBYLA')\n",
    "    print('i= ',i,' i+3= ', i+3)\n",
    "    print('all= ', res)"
   ]
  },
  {
   "cell_type": "code",
   "execution_count": null,
   "id": "e4d9efd6",
   "metadata": {},
   "outputs": [],
   "source": []
  },
  {
   "cell_type": "code",
   "execution_count": null,
   "id": "0958e48d",
   "metadata": {},
   "outputs": [],
   "source": []
  }
 ],
 "metadata": {
  "kernelspec": {
   "display_name": "Python 3 (ipykernel)",
   "language": "python",
   "name": "python3"
  },
  "language_info": {
   "codemirror_mode": {
    "name": "ipython",
    "version": 3
   },
   "file_extension": ".py",
   "mimetype": "text/x-python",
   "name": "python",
   "nbconvert_exporter": "python",
   "pygments_lexer": "ipython3",
   "version": "3.9.13"
  }
 },
 "nbformat": 4,
 "nbformat_minor": 5
}
