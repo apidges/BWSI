{
 "cells": [
  {
   "cell_type": "code",
   "execution_count": 1,
   "id": "33b3263a",
   "metadata": {},
   "outputs": [
    {
     "name": "stdout",
     "output_type": "stream",
     "text": [
      "Preparing Q# environment...\n",
      "."
     ]
    }
   ],
   "source": [
    "import qsharp"
   ]
  },
  {
   "cell_type": "code",
   "execution_count": 57,
   "id": "c9226662",
   "metadata": {},
   "outputs": [
    {
     "name": "stdout",
     "output_type": "stream",
     "text": [
      "D:\\snippet_.qs(35,19): warning QS3308: Deprecated syntax. Use [] to construct an empty array, or [x, size = n] to construct an array of x repeated n times.\r\n"
     ]
    }
   ],
   "source": [
    "%%qsharp\n",
    "\n",
    "\n",
    "open Microsoft.Quantum.Canon;\n",
    "open Microsoft.Quantum.Intrinsic;\n",
    "open Microsoft.Quantum.Convert;\n",
    "open Microsoft.Quantum.Math;\n",
    "open Microsoft.Quantum.Arithmetic;\n",
    "open Microsoft.Quantum.Preparation;\n",
    "open Microsoft.Quantum.Diagnostics;\n",
    "\n",
    "operation getGraphLength():Int{\n",
    "    return 4;\n",
    "}\n",
    "\n",
    "operation completeCycle(gamma: Double, beta: Double, p: Int): Double {\n",
    "    return meanCostInverse(QAOA(gamma, beta, p));\n",
    "}\n",
    "\n",
    "operation QAOA(gamma:Double, beta:Double, p:Int):Int[]{\n",
    "    \n",
    "    //input register\n",
    "    use register = Qubit[getGraphLength()];\n",
    "    \n",
    "    //prepare qubits by creating uniform superposition\n",
    "    ApplyToEach(H, register);\n",
    "\n",
    "    //repeat cost and mixer steps p times\n",
    "    //I think that we might need a new gamma and beta for each p\n",
    "    for i in 1..p{\n",
    "        costLayer(register, gamma);\n",
    "        mixerLayer(register, beta);\n",
    "    }\n",
    "\n",
    "    //Read the results as int array\n",
    "    mutable res = new Int[Length(register)];\n",
    "    for i in 0..Length(register)-1{\n",
    "        set res w/= i <- (M(register[i]) == One ? 1 | 0);\n",
    "    }\n",
    "\n",
    "    //return the results\n",
    "    return res;\n",
    "}\n",
    "\n",
    "operation mixerLayer(register:Qubit[], beta:Double):Unit{\n",
    "    ApplyToEach(Rx(2.*beta, _), register); //the '2*beta' is from the qiskit vid https://www.youtube.com/watch?v=YpLzSQPrgSc\n",
    "}\n",
    "    \n",
    "operation costLayer(register:Qubit[], gamma:Double):Unit{\n",
    "    ApplyToEach(Rz(gamma, _), register);\n",
    "    for i in 0..Length(register)-1{\n",
    "         for j in i+1..Length(register)-1{\n",
    "             Rzz(gamma, register[i], register[j]);\n",
    "         }\n",
    "     }\n",
    "}\n",
    "   \n",
    "operation meanCostInverse(register: Int[]) : Double {\n",
    "    mutable cost = IntAsDouble(Length(register)-1);\n",
    "    for i in 0 .. Length(register) - 1 {\n",
    "        for j in i..Length(register)-1{\n",
    "            let xi = IntAsDouble(register[1]);\n",
    "            let xj = IntAsDouble(register[j]);\n",
    "            set cost -= (1.-xi*xj)/2.; //from https://www.youtube.com/watch?v=aFVnWq3RHYU&t=126s\n",
    "        }\n",
    "    }\n",
    "    return cost / IntAsDouble(Length(register));\n",
    "}\n"
   ]
  },
  {
   "cell_type": "code",
   "execution_count": 128,
   "id": "12aa3c43",
   "metadata": {},
   "outputs": [
    {
     "name": "stdout",
     "output_type": "stream",
     "text": [
      "[0, 0, 0, 0]\n",
      "[1, 1, 1, 1]\n",
      "[0, 0, 0, 0]\n",
      "[1, 1, 0, 1]\n",
      "[1, 1, 1, 1]\n",
      "[0, 0, 0, 0]\n",
      "[1, 1, 0, 1]\n",
      "[0, 1, 1, 1]\n",
      "[0, 0, 0, 0]\n",
      "[0, 0, 0, 0]\n",
      "[0, 1, 1, 0]\n",
      "[0, 0, 0, 0]\n",
      "[1, 1, 1, 1]\n",
      "[1, 1, 1, 0]\n",
      "[1, 0, 1, 1]\n",
      "[0, 0, 0, 0]\n",
      "[1, 1, 0, 1]\n",
      "[0, 0, 0, 1]\n",
      "[1, 0, 0, 0]\n",
      "[1, 0, 1, 1]\n",
      "[1, 1, 1, 0]\n",
      "[1, 1, 1, 0]\n",
      "[1, 1, 1, 0]\n",
      "[0, 0, 0, 1]\n",
      "[0, 0, 0, 0]\n"
     ]
    }
   ],
   "source": [
    "print(QAOA.simulate(gamma=1, beta=1, p=1))\n",
    "print(QAOA.simulate(gamma=1, beta=1, p=1))\n",
    "print(QAOA.simulate(gamma=1, beta=1, p=1))\n",
    "print(QAOA.simulate(gamma=1, beta=1, p=1))\n",
    "print(QAOA.simulate(gamma=1, beta=1, p=1))\n",
    "print(QAOA.simulate(gamma=1, beta=1, p=1))\n",
    "print(QAOA.simulate(gamma=1, beta=1, p=1))\n",
    "print(QAOA.simulate(gamma=1, beta=1, p=1))\n",
    "print(QAOA.simulate(gamma=1, beta=1, p=1))\n",
    "print(QAOA.simulate(gamma=1, beta=1, p=1))\n",
    "\n",
    "print(QAOA.simulate(gamma=1, beta=1, p=1))\n",
    "print(QAOA.simulate(gamma=1, beta=1, p=1))\n",
    "print(QAOA.simulate(gamma=1, beta=1, p=1))\n",
    "print(QAOA.simulate(gamma=1, beta=1, p=1))\n",
    "print(QAOA.simulate(gamma=1, beta=1, p=1))\n",
    "\n",
    "print(QAOA.simulate(gamma=1, beta=1, p=1))\n",
    "print(QAOA.simulate(gamma=1, beta=1, p=1))\n",
    "print(QAOA.simulate(gamma=1, beta=1, p=1))\n",
    "print(QAOA.simulate(gamma=1, beta=1, p=1))\n",
    "print(QAOA.simulate(gamma=1, beta=1, p=1))\n",
    "\n",
    "print(QAOA.simulate(gamma=1, beta=1, p=1))\n",
    "print(QAOA.simulate(gamma=1, beta=1, p=1))\n",
    "print(QAOA.simulate(gamma=1, beta=1, p=1))\n",
    "print(QAOA.simulate(gamma=1, beta=1, p=1))\n",
    "print(QAOA.simulate(gamma=1, beta=1, p=1))\n",
    "\n"
   ]
  },
  {
   "cell_type": "code",
   "execution_count": 82,
   "id": "3fb1ee38",
   "metadata": {},
   "outputs": [],
   "source": [
    "import numpy as np\n",
    "from scipy.optimize import minimize"
   ]
  },
  {
   "cell_type": "code",
   "execution_count": 83,
   "id": "e7a9cad5",
   "metadata": {},
   "outputs": [],
   "source": [
    "def obj_func(params):\n",
    "    myres=completeCycle.simulate(gamma=params[0], beta=params[1], p=1);\n",
    "    print('res= ', myres)\n",
    "    print('params= ', params)\n"
   ]
  },
  {
   "cell_type": "code",
   "execution_count": 122,
   "id": "abce10a4",
   "metadata": {},
   "outputs": [],
   "source": [
    "def getMostFrequent(gamma, beta):\n",
    "    myDict = {}\n",
    "    for i in range(1000):\n",
    "        res = QAOA.simulate(gamma=gamma, beta=beta, p=1)\n",
    "        res=tuple(res)\n",
    "        if res in myDict.keys():\n",
    "            myDict.update({res:myDict.get(res)+1})\n",
    "        else:\n",
    "            myDict.update({res:0})\n",
    "    return np.array(max(myDict))"
   ]
  },
  {
   "cell_type": "code",
   "execution_count": 123,
   "id": "8073953c",
   "metadata": {},
   "outputs": [
    {
     "name": "stdout",
     "output_type": "stream",
     "text": [
      "[1 1 1 1]\n"
     ]
    }
   ],
   "source": [
    "print(getMostFrequent(0.,0.))"
   ]
  },
  {
   "cell_type": "code",
   "execution_count": 124,
   "id": "384b5965",
   "metadata": {},
   "outputs": [],
   "source": [
    "def obj_func2 (params):\n",
    "    myregister=getMostFrequent(params[0], params[1])\n",
    "    print('params= ', params)\n",
    "    print('register= ', myregister)\n",
    "    myRes=meanCostInverse.simulate(register=myregister)\n",
    "    print('cost= ', myRes)\n",
    "    return myRes"
   ]
  },
  {
   "cell_type": "code",
   "execution_count": 125,
   "id": "651db712",
   "metadata": {},
   "outputs": [
    {
     "name": "stdout",
     "output_type": "stream",
     "text": [
      "params=  [541.0, 167.0]\n",
      "register=  [1 1 1 1]\n",
      "cost=  0.75\n",
      "0.75\n"
     ]
    }
   ],
   "source": [
    "print(obj_func2([541.,167.]))"
   ]
  },
  {
   "cell_type": "code",
   "execution_count": 126,
   "id": "96d69d66",
   "metadata": {
    "scrolled": true
   },
   "outputs": [
    {
     "name": "stdout",
     "output_type": "stream",
     "text": [
      "params=  [0. 0.]\n",
      "register=  [1 1 1 1]\n",
      "cost=  0.75\n",
      "params=  [1. 0.]\n",
      "register=  [1 1 1 1]\n",
      "cost=  0.75\n",
      "params=  [0. 1.]\n",
      "register=  [1 1 1 1]\n",
      "cost=  0.75\n",
      "params=  [0.125 0.   ]\n",
      "register=  [1 1 1 1]\n",
      "cost=  0.75\n",
      "params=  [0.    0.125]\n",
      "register=  [1 1 1 1]\n",
      "cost=  0.75\n",
      "params=  [0.015625 0.      ]\n",
      "register=  [1 1 1 1]\n",
      "cost=  0.75\n",
      "params=  [0.       0.015625]\n",
      "register=  [1 1 1 1]\n",
      "cost=  0.75\n",
      "params=  [0.00195312 0.        ]\n",
      "register=  [1 1 1 1]\n",
      "cost=  0.75\n",
      "params=  [0.         0.00195312]\n",
      "register=  [1 1 1 1]\n",
      "cost=  0.75\n",
      "params=  [0.00024414 0.        ]\n",
      "register=  [1 1 1 1]\n",
      "cost=  0.75\n",
      "params=  [0.         0.00024414]\n",
      "register=  [1 1 1 1]\n",
      "cost=  0.75\n",
      "params=  [5.e-05 0.e+00]\n",
      "register=  [1 1 1 1]\n",
      "cost=  0.75\n",
      "params=  [0.e+00 5.e-05]\n",
      "register=  [1 1 1 1]\n",
      "cost=  0.75\n",
      "all=       fun: 0.75\n",
      "   maxcv: 0.0\n",
      " message: 'Optimization terminated successfully.'\n",
      "    nfev: 13\n",
      "  status: 1\n",
      " success: True\n",
      "       x: array([0., 0.])\n"
     ]
    }
   ],
   "source": [
    "res = minimize(obj_func2,[0.0, 0.0], method='COBYLA')\n",
    "print('all= ', res)"
   ]
  },
  {
   "cell_type": "code",
   "execution_count": null,
   "id": "b71cb219",
   "metadata": {},
   "outputs": [],
   "source": []
  },
  {
   "cell_type": "code",
   "execution_count": null,
   "id": "305b2f04",
   "metadata": {},
   "outputs": [],
   "source": []
  }
 ],
 "metadata": {
  "kernelspec": {
   "display_name": "Python 3 (ipykernel)",
   "language": "python",
   "name": "python3"
  },
  "language_info": {
   "codemirror_mode": {
    "name": "ipython",
    "version": 3
   },
   "file_extension": ".py",
   "mimetype": "text/x-python",
   "name": "python",
   "nbconvert_exporter": "python",
   "pygments_lexer": "ipython3",
   "version": "3.9.13"
  }
 },
 "nbformat": 4,
 "nbformat_minor": 5
}
